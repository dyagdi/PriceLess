{
 "cells": [
  {
   "cell_type": "code",
   "execution_count": 9,
   "metadata": {},
   "outputs": [],
   "source": [
    "import sqlite3\n",
    "import pandas as pd"
   ]
  },
  {
   "cell_type": "code",
   "execution_count": 10,
   "metadata": {},
   "outputs": [],
   "source": [
    "# Step 1: Connect to the SQLite database\n",
    "db_path = './small_data.db'\n",
    "conn = sqlite3.connect(db_path)"
   ]
  },
  {
   "cell_type": "code",
   "execution_count": 11,
   "metadata": {},
   "outputs": [],
   "source": [
    "# Fetch data from the database\n",
    "query = \"\"\"SELECT name, normalized_name, price, in_stock, product_link, \"Market name\" FROM sample_data;\"\"\"\n",
    "products = pd.read_sql_query(query, conn)\n",
    "\n",
    "# Ensure price is numeric\n",
    "products['price'] = pd.to_numeric(products['price'], errors='coerce')\n"
   ]
  },
  {
   "cell_type": "code",
   "execution_count": 12,
   "metadata": {},
   "outputs": [],
   "source": [
    "# Group by normalized_name and find the product with the lowest price\n",
    "cheapest_products = (\n",
    "    products.groupby('normalized_name')\n",
    "    .apply(lambda group: group.loc[group['price'].idxmin()])  # Select the cheapest product in each group\n",
    "    .reset_index(drop=True)\n",
    ")\n",
    "\n"
   ]
  },
  {
   "cell_type": "code",
   "execution_count": 13,
   "metadata": {},
   "outputs": [
    {
     "name": "stdout",
     "output_type": "stream",
     "text": [
      "                                                  name  \\\n",
      "0                  İçim Lezzet %3,5 Yağlı Uht Süt 1 lt   \n",
      "1              Alpro Bitter Çikolata Badem İçeceği 1 L   \n",
      "2             İçim Pastörize Muzlu D Vitaminli Süt 1 L   \n",
      "3                         Mis Pastörize Günlük Süt 1 L   \n",
      "4    Sek Vanilyalı Beyaz Çikolatalı Milkshake Sütlü...   \n",
      "..                                                 ...   \n",
      "170                                  Pırasa Demet Adet   \n",
      "171                                       Salatalık kg   \n",
      "172                                      Vezir Turp Kg   \n",
      "173                                Zencefil 250 g Adet   \n",
      "174                                         Kuzu Lokum   \n",
      "\n",
      "                              normalized_name    price in_stock  \\\n",
      "0            1 35 icim lezzet lt sut uht yagl    42.95     TRUE   \n",
      "1     1 alpro badem bitter cikolata icecegi l   132.95     TRUE   \n",
      "2    1 d icim l muzlu pastorize sut vitaminli    53.95     TRUE   \n",
      "3                1 gunluk l mis pastorize sut    34.00     TRUE   \n",
      "4        1 icecek kahveli l latte sutas sutlu  2900.00      Yes   \n",
      "..                                        ...      ...      ...   \n",
      "170                                  kg prasa    39.95     TRUE   \n",
      "171                               kg salatalk    29.90     TRUE   \n",
      "172                             kg turp vezir    34.95     TRUE   \n",
      "173                               kg zencefil    94.95     TRUE   \n",
      "174                                kuzu lokum   899.95     TRUE   \n",
      "\n",
      "                                          product_link Market name  \n",
      "0    https://www.carrefoursa.com/icim-lezzet-3-5-ya...   Carrefour  \n",
      "1    https://www.migros.com.tr/alpro-bitter-cikolat...      Migros  \n",
      "2    https://www.carrefoursa.com/icim-pastorize-muz...   Carrefour  \n",
      "3    https://www.sokmarket.com.tr/mis-pastorize-gun...         Şok  \n",
      "4    https://www.a101.com.tr/kapida/sut-urunleri-ka...        A101  \n",
      "..                                                 ...         ...  \n",
      "170  https://www.migros.com.tr/pirasa-demet-adet-p-...      Migros  \n",
      "171  https://www.carrefoursa.com/salatalik-kg-p-300...   Carrefour  \n",
      "172  https://www.migros.com.tr/vezir-turp-kg-p-1b26af7      Migros  \n",
      "173  https://www.carrefoursa.com/zencefil-250-g-ade...   Carrefour  \n",
      "174     https://www.migros.com.tr/kuzu-lokum-p-16e5dc4      Migros  \n",
      "\n",
      "[175 rows x 6 columns]\n"
     ]
    }
   ],
   "source": [
    "# Simply print the DataFrame to the console\n",
    "print(cheapest_products)"
   ]
  },
  {
   "cell_type": "code",
   "execution_count": 14,
   "metadata": {},
   "outputs": [],
   "source": [
    "# Save the DataFrame to a CSV file\n",
    "cheapest_products.to_csv(\"cheapest_products.csv\", index=False)"
   ]
  }
 ],
 "metadata": {
  "kernelspec": {
   "display_name": "Python 3",
   "language": "python",
   "name": "python3"
  },
  "language_info": {
   "codemirror_mode": {
    "name": "ipython",
    "version": 3
   },
   "file_extension": ".py",
   "mimetype": "text/x-python",
   "name": "python",
   "nbconvert_exporter": "python",
   "pygments_lexer": "ipython3",
   "version": "3.10.11"
  }
 },
 "nbformat": 4,
 "nbformat_minor": 2
}
