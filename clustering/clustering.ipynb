{
 "cells": [
  {
   "cell_type": "code",
   "execution_count": 16,
   "metadata": {},
   "outputs": [],
   "source": [
    "import sqlite3\n",
    "import pandas as pd\n",
    "from sklearn.feature_extraction.text import TfidfVectorizer\n",
    "from sklearn.cluster import DBSCAN\n",
    "from sklearn.metrics.pairwise import cosine_similarity"
   ]
  },
  {
   "cell_type": "code",
   "execution_count": 17,
   "metadata": {},
   "outputs": [],
   "source": [
    "# Step 1: Connect to the SQLite database\n",
    "db_path = './small_data.db'\n",
    "conn = sqlite3.connect(db_path)"
   ]
  },
  {
   "cell_type": "markdown",
   "metadata": {},
   "source": []
  },
  {
   "cell_type": "code",
   "execution_count": 18,
   "metadata": {},
   "outputs": [],
   "source": [
    "# Step 2: Fetch distinct normalized names from the database\n",
    "fetch_names_query = \"SELECT normalized_name FROM sample_data WHERE normalized_name IS NOT NULL;\"\n",
    "names = pd.read_sql_query(fetch_names_query, conn)['normalized_name'].tolist()"
   ]
  },
  {
   "cell_type": "code",
   "execution_count": 19,
   "metadata": {},
   "outputs": [
    {
     "name": "stdout",
     "output_type": "stream",
     "text": [
      "1 l sek sut\n",
      "1 l sek sut\n",
      "1 l sek sut\n",
      "1 l sek sut\n",
      "1 l sek sut\n"
     ]
    }
   ],
   "source": [
    "for i in range(5):\n",
    "    print(names[i])"
   ]
  },
  {
   "cell_type": "code",
   "execution_count": 20,
   "metadata": {},
   "outputs": [],
   "source": [
    "# Step 3: Convert product names into TF-IDF vectors\n",
    "vectorizer = TfidfVectorizer()\n",
    "name_vectors = vectorizer.fit_transform(names)"
   ]
  },
  {
   "cell_type": "code",
   "execution_count": 21,
   "metadata": {},
   "outputs": [],
   "source": [
    "# Step 4: Calculate cosine similarity and apply DBSCAN clustering\n",
    "distance_matrix = 1 - cosine_similarity(name_vectors)\n",
    "\n",
    "# Ensure non-negative distances\n",
    "distance_matrix[distance_matrix < 0] = 0\n",
    "\n",
    "# Apply DBSCAN clustering\n",
    "clustering_model = DBSCAN(eps=0.6, min_samples=4, metric='precomputed')\n",
    "clusters = clustering_model.fit_predict(distance_matrix)"
   ]
  },
  {
   "cell_type": "code",
   "execution_count": 22,
   "metadata": {},
   "outputs": [],
   "source": [
    "# Step 5: Map clusters to canonical names\n",
    "name_clusters = pd.DataFrame({'name': names, 'cluster': clusters})\n",
    "\n",
    "# Assign canonical names (e.g., the shortest name in each cluster)\n",
    "canonical_names = (\n",
    "    name_clusters.groupby('cluster')['name']\n",
    "    .apply(lambda x: min(x, key=len) if x.name != -1 else None)  # Shortest name for each cluster\n",
    "    .to_dict()\n",
    ")\n",
    "\n",
    "# Map names to their canonical form\n",
    "name_clusters['canonical_name'] = name_clusters['cluster'].map(canonical_names)"
   ]
  },
  {
   "cell_type": "code",
   "execution_count": 23,
   "metadata": {},
   "outputs": [],
   "source": [
    "# Step 6: Update the database with canonical names\n",
    "update_query = \"UPDATE sample_data SET normalized_name = ? WHERE normalized_name = ?;\"\n",
    "for _, row in name_clusters.iterrows():\n",
    "    if row['canonical_name']:\n",
    "        conn.execute(update_query, (row['canonical_name'], row['name']))\n",
    "\n",
    "# Commit the updates\n",
    "conn.commit()"
   ]
  },
  {
   "cell_type": "code",
   "execution_count": 24,
   "metadata": {},
   "outputs": [
    {
     "name": "stdout",
     "output_type": "stream",
     "text": [
      "  normalized_name\n",
      "0     1 l sek sut\n",
      "1     1 l sek sut\n",
      "2     1 l sek sut\n",
      "3     1 l sek sut\n",
      "4     1 l sek sut\n",
      "5     1 l sek sut\n",
      "6     1 l sek sut\n",
      "7     1 l sek sut\n",
      "8     1 l sek sut\n",
      "9     1 l sek sut\n"
     ]
    }
   ],
   "source": [
    "# Step 7: Verify the updates by fetching a sample of rows\n",
    "verify_query = \"SELECT normalized_name FROM sample_data LIMIT 10;\"\n",
    "updated_rows = pd.read_sql_query(verify_query, conn)\n",
    "\n",
    "# Display the updated rows\n",
    "print(updated_rows)"
   ]
  },
  {
   "cell_type": "code",
   "execution_count": 25,
   "metadata": {},
   "outputs": [],
   "source": [
    "# Close the connection\n",
    "conn.close()"
   ]
  },
  {
   "cell_type": "code",
   "execution_count": 26,
   "metadata": {},
   "outputs": [
    {
     "data": {
      "image/png": "[encoded data removed]",
      "text/plain": [
       "<Figure size 640x480 with 1 Axes>"
      ]
     },
     "metadata": {},
     "output_type": "display_data"
    }
   ],
   "source": [
    "from sklearn.neighbors import NearestNeighbors\n",
    "import matplotlib.pyplot as plt\n",
    "import numpy as np\n",
    "\n",
    "# Calculate the k-distance graph\n",
    "k = 4  # Typically, use min_samples - 1\n",
    "neighbors = NearestNeighbors(n_neighbors=k)\n",
    "neighbors_fit = neighbors.fit(name_vectors)\n",
    "distances, _ = neighbors_fit.kneighbors(name_vectors)\n",
    "\n",
    "# Sort distances for k-th nearest neighbor\n",
    "distances = np.sort(distances[:, k-1], axis=0)\n",
    "\n",
    "# Plot the distances to find the elbow\n",
    "plt.plot(distances)\n",
    "plt.ylabel('k-distance')\n",
    "plt.xlabel('Points sorted by distance')\n",
    "plt.title('Elbow Method for Choosing eps')\n",
    "plt.show()"
   ]
  }
 ],
 "metadata": {
  "kernelspec": {
   "display_name": "Python 3",
   "language": "python",
   "name": "python3"
  },
  "language_info": {
   "codemirror_mode": {
    "name": "ipython",
    "version": 3
   },
   "file_extension": ".py",
   "mimetype": "text/x-python",
   "name": "python",
   "nbconvert_exporter": "python",
   "pygments_lexer": "ipython3",
   "version": "3.10.11"
  }
 },
 "nbformat": 4,
 "nbformat_minor": 2
}
